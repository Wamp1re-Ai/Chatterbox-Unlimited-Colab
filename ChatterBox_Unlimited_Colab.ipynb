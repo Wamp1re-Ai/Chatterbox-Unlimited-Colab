{
  "nbformat": 4,
  "nbformat_minor": 0,
  "metadata": {
    "colab": {
      "provenance": [],
      "gpuType": "T4",
      "machine_shape": "hm"
    },
    "kernelspec": {
      "name": "python3",
      "display_name": "Python 3"
    },
    "language_info": {
      "name": "python"
    },
    "accelerator": "GPU"
  },
  "cells": [
    {
      "cell_type": "markdown",
      "source": [
        "# 🎤 ChatterBox Unlimited - Colab Edition\n",
        "\n",
        "Welcome to **ChatterBox Unlimited**! This notebook provides a powerful Gradio interface for ResembleAI's state-of-the-art ChatterBox TTS model.\n",
        "\n",
        "## ✨ Features\n",
        "### 🎤 Core TTS Features\n",
        "- 🎯 **Zero-shot TTS**: Generate speech from any text\n",
        "- 🎭 **Voice Cloning**: Clone voices from audio samples\n",
        "- 🎨 **Emotion Control**: Adjust expressiveness\n",
        "- 🚀 **GPU Acceleration**: Fast generation with Colab's GPUs\n",
        "- 🌐 **Web Interface**: Beautiful Gradio UI\n",
        "\n",
        "### 🆕 Enhanced Features\n",
        "- 🎭 **Emotion & Style Presets**: 16 pre-configured presets (happy, sad, news anchor, storyteller, etc.)\n",
        "- 🎚️ **Audio Post-Processing**: Noise reduction, EQ presets, and audio enhancement\n",
        "- 📦 **Batch Processing**: Process multiple texts with CSV/JSON import and bulk download\n",
        "- 📝 **Smart Text Processing**: Sound effects ([laugh], [cough]), pronunciation dictionary\n",
        "- 🔧 **Quality Improvements**: Fixes for audio distortion and voice quality issues\n",
        "\n",
        "## 🚀 Instructions\n",
        "1. **Enable GPU**: Go to Runtime → Change runtime type → GPU\n",
        "2. **Run all cells** below in order\n",
        "3. **Access the interface** through the Gradio link\n",
        "4. **Start generating speech**!\n",
        "\n",
        "---"
      ],
      "metadata": {
        "id": "header"
      }
    },
    {
      "cell_type": "markdown",
      "source": [
        "## 📦 Step 1: Install Dependencies\n",
        "\n",
        "This will install all required packages including PyTorch with CUDA support and ChatterBox TTS."
      ],
      "metadata": {
        "id": "install_header"
      }
    },
    {
      "cell_type": "code",
      "execution_count": null,
      "metadata": {
        "id": "install_deps"
      },
      "outputs": [],
      "source": [
        "# Install UV package manager for faster installations\n",
        "!pip install uv\n",
        "\n",
        "# Fix CUDA version conflicts by installing compatible versions\n",
        "print(\"🔧 Installing compatible PyTorch versions...\")\n",
        "!uv pip install torch==2.4.0 torchaudio==2.4.0 torchvision==0.19.0 --index-url https://download.pytorch.org/whl/cu121\n",
        "\n",
        "# Install compatible versions to avoid import errors\n",
        "print(\"📦 Installing compatible dependencies...\")\n",
        "!uv pip install \"numpy>=1.24.0,<2.0.0\"\n",
        "!uv pip install \"transformers>=4.40.0,<5.0.0\"\n",
        "!uv pip install \"diffusers>=0.25.0,<1.0.0\"\n",
        "\n",
        "# Install ChatterBox TTS\n",
        "print(\"🎤 Installing ChatterBox TTS...\")\n",
        "!uv pip install chatterbox-tts --no-deps\n",
        "\n",
        "# Install remaining dependencies with compatible versions\n",
        "!uv pip install gradio soundfile librosa resampy omegaconf conformer resemble-perth s3tokenizer scipy\n",
        "\n",
        "# Verify installation\n",
        "print(\"\\n🧪 Testing installation...\")\n",
        "import torch\n",
        "print(f\"🔥 PyTorch version: {torch.__version__}\")\n",
        "print(f\"🎮 CUDA available: {torch.cuda.is_available()}\")\n",
        "if torch.cuda.is_available():\n",
        "    print(f\"   GPU: {torch.cuda.get_device_name(0)}\")\n",
        "    print(f\"   Memory: {torch.cuda.get_device_properties(0).total_memory / 1e9:.1f} GB\")\n",
        "    print(f\"   CUDA Version: {torch.version.cuda}\")\n",
        "\n",
        "try:\n",
        "    from chatterbox.tts import ChatterboxTTS\n",
        "    print(\"✅ ChatterBox TTS installed successfully!\")\n",
        "except ImportError as e:\n",
        "    print(f\"❌ ChatterBox TTS installation failed: {e}\")\n",
        "    \n",
        "    # Check if it's a transformers compatibility issue\n",
        "    if 'is_quanto_available' in str(e):\n",
        "        print(\"🔧 Fixing transformers compatibility issue...\")\n",
        "        !uv pip install --upgrade \"transformers>=4.45.0\"\n",
        "        print(\"🔄 Trying again after transformers upgrade...\")\n",
        "        try:\n",
        "            from chatterbox.tts import ChatterboxTTS\n",
        "            print(\"✅ ChatterBox TTS working after transformers upgrade!\")\n",
        "        except ImportError as e3:\n",
        "            print(f\"❌ Still failed after upgrade: {e3}\")\n",
        "            print(\"🔄 Trying GitHub installation...\")\n",
        "            !uv pip install git+https://github.com/resemble-ai/chatterbox.git\n",
        "    else:\n",
        "        print(\"🔄 Trying GitHub installation...\")\n",
        "        !uv pip install git+https://github.com/resemble-ai/chatterbox.git\n",
        "    \n",
        "    try:\n",
        "        from chatterbox.tts import ChatterboxTTS\n",
        "        print(\"✅ ChatterBox TTS installed from GitHub!\")\n",
        "    except ImportError as e2:\n",
        "        print(f\"❌ Still failed: {e2}\")\n",
        "        print(\"💡 Try restarting runtime and running again.\")"
      ]
    },
    {
      "cell_type": "markdown",
      "source": [
        "## 🔧 Step 1.5: Fix Dependencies (If Needed)\n",
        "\n",
        "If you see the `is_quanto_available` error or other import issues, run this cell to fix them:"
      ],
      "metadata": {
        "id": "fix_header"
      }
    },
    {
      "cell_type": "code",
      "source": [
        "# Quick fix for common Colab dependency issues\n",
        "import subprocess\n",
        "import sys\n",
        "\n",
        "def fix_transformers_issue():\n",
        "    \"\"\"Fix the is_quanto_available import error\"\"\"\n",
        "    print(\"🔧 Fixing transformers compatibility issue...\")\n",
        "    \n",
        "    # Upgrade transformers to a version that has is_quanto_available\n",
        "    subprocess.run([sys.executable, \"-m\", \"pip\", \"install\", \"--upgrade\", \"transformers>=4.45.0\"], check=False)\n",
        "    \n",
        "    # Also upgrade diffusers for compatibility\n",
        "    subprocess.run([sys.executable, \"-m\", \"pip\", \"install\", \"--upgrade\", \"diffusers>=0.30.0\"], check=False)\n",
        "    \n",
        "    print(\"✅ Dependencies upgraded. Please restart runtime if issues persist.\")\n",
        "\n",
        "# Check if we have the import issue\n",
        "try:\n",
        "    from transformers.utils import is_quanto_available\n",
        "    print(\"✅ Transformers is compatible - no fix needed\")\n",
        "except ImportError as e:\n",
        "    if 'is_quanto_available' in str(e):\n",
        "        print(\"❌ Found is_quanto_available issue - applying fix...\")\n",
        "        fix_transformers_issue()\n",
        "    else:\n",
        "        print(f\"❌ Different import issue: {e}\")\n",
        "\n",
        "# Test ChatterBox import\n",
        "try:\n",
        "    from chatterbox.tts import ChatterboxTTS\n",
        "    print(\"✅ ChatterBox TTS import successful!\")\n",
        "except ImportError as e:\n",
        "    print(f\"❌ ChatterBox import failed: {e}\")\n",
        "    print(\"💡 You may need to restart runtime and re-run the installation.\")"
      ],
      "metadata": {
        "id": "fix_dependencies"
      },
      "execution_count": null,
      "outputs": []
    },
    {
      "cell_type": "markdown",
      "source": [
        "## 🔄 Step 2: Restart Runtime (If Needed)\n",
        "\n",
        "If you see any CUDA or dependency conflicts above, restart the runtime and re-run from Step 1."
      ],
      "metadata": {
        "id": "restart_header"
      }
    },
    {
      "cell_type": "code",
      "source": [
        "# Check if restart is needed\n",
        "import sys\n",
        "try:\n",
        "    import torch\n",
        "    from chatterbox.tts import ChatterboxTTS\n",
        "    print(\"✅ All dependencies working correctly!\")\n",
        "    print(f\"🎮 GPU: {torch.cuda.get_device_name(0) if torch.cuda.is_available() else 'CPU'}\")\n",
        "except Exception as e:\n",
        "    print(f\"⚠️ Issue detected: {e}\")\n",
        "    print(\"🔄 Please restart runtime: Runtime -> Restart Runtime\")\n",
        "    print(\"Then re-run all cells from the beginning.\")"
      ],
      "metadata": {
        "id": "check_restart"
      },
      "execution_count": null,
      "outputs": []
    },
    {
      "cell_type": "markdown",
      "source": [
        "## 📥 Step 3: Download Repository\n",
        "\n",
        "Clone the ChatterBox Unlimited repository with the Gradio interface."
      ],
      "metadata": {
        "id": "download_header"
      }
    },
    {
      "cell_type": "code",
      "source": [
        "# Clone the repository\n",
        "!git clone https://github.com/Wamp1re-Ai/Chatterbox-Unlimited-Colab.git\n",
        "%cd Chatterbox-Unlimited-Colab\n",
        "\n",
        "# List files\n",
        "!ls -la"
      ],
      "metadata": {
        "id": "download_repo"
      },
      "execution_count": null,
      "outputs": []
    },
    {
      "cell_type": "markdown",
      "source": [
        "## 🚀 Step 4: Launch ChatterBox TTS Interface\n",
        "\n",
        "This will start the Gradio web interface. The model will automatically download (~5GB) on first run."
      ],
      "metadata": {
        "id": "launch_header"
      }
    },
    {
      "cell_type": "code",
      "source": [
        "# Launch the ChatterBox TTS interface\n",
        "!python main.py --share --port 7860\n",
        "\n",
        "# Note: The interface will be available at the Gradio public link\n",
        "# Look for the line that says \"Running on public URL: https://xxxxx.gradio.live\""
      ],
      "metadata": {
        "id": "launch_interface"
      },
      "execution_count": null,
      "outputs": []
    },
    {
      "cell_type": "markdown",
      "source": [
        "## 🎯 How to Use\n",
        "\n",
        "Once the interface is running:\n",
        "\n",
        "### Basic Text-to-Speech\n",
        "1. **Load Model**: Click \"Load ChatterBox TTS Model\" (first time may take a few minutes)\n",
        "2. **Enter Text**: Type your text in the input box\n",
        "3. **Adjust Settings**:\n",
        "   - **Exaggeration**: 0.0-1.0 (emotion intensity)\n",
        "   - **CFG Weight**: 0.0-1.0 (speech pacing)\n",
        "4. **Generate**: Click \"🎤 Generate Speech\"\n",
        "\n",
        "### Voice Cloning\n",
        "1. **Upload Reference Audio**: 3-10 seconds of clear speech\n",
        "2. **Enter Text**: What you want the cloned voice to say\n",
        "3. **Generate**: The output will mimic the reference voice\n",
        "\n",
        "### 🆕 Enhanced Features Usage\n",
        "#### Emotion & Style Presets\n",
        "- **Single Generation Tab**: Choose from 16 presets (😊 Happy, 📺 News Anchor, 📚 Storyteller, etc.)\n",
        "- **Smart Suggestions**: The system suggests presets based on your text content\n",
        "- **Custom Presets**: Create and save your own emotion/style combinations\n",
        "\n",
        "#### Audio Enhancement\n",
        "- **Enable Audio Enhancement**: Toggle professional audio processing\n",
        "- **Noise Reduction**: Remove background noise and artifacts (0.0-1.0)\n",
        "- **EQ Presets**: Choose Vocal, Warm, Bright, or Balanced sound\n",
        "- **Text Processing**: Automatic pronunciation fixes and sound effects\n",
        "\n",
        "#### Batch Processing\n",
        "- **Batch Processing Tab**: Process multiple texts at once\n",
        "- **Text Lines**: Enter multiple lines, each becomes a separate audio file\n",
        "- **CSV Upload**: Upload structured data with custom parameters per line\n",
        "- **Bulk Download**: Get all results in a single ZIP file with reports\n",
        "\n",
        "#### Smart Text Features\n",
        "- **Sound Effects**: Use [laugh], [giggle], [cough], [pause], [sigh], etc.\n",
        "- **Pronunciation**: Automatic fixes for AI, GPU, CPU, HTTP, URLs, etc.\n",
        "- **Numbers**: Converts 2024 → \"twenty twenty-four\"\n",
        "- **URLs/Emails**: Converts links to speakable format\n",
        "\n",
        "### Tips for Best Results\n",
        "- **General Use**: Default settings (0.5, 0.5) work well\n",
        "- **Expressive Speech**: Lower CFG (~0.3) + higher exaggeration (~0.7+)\n",
        "- **Voice Cloning**: Use clear, high-quality reference audio\n",
        "- **GPU Acceleration**: Colab's GPU will make generation much faster!\n",
        "\n",
        "---\n",
        "\n",
        "## 📝 Notes\n",
        "- Generated audio includes watermarking for responsible AI use\n",
        "- First model load downloads ~5GB of weights\n",
        "- Colab session will timeout after inactivity\n",
        "- For extended use, consider Colab Pro for longer sessions\n",
        "\n",
        "## 🔗 Links\n",
        "- [GitHub Repository](https://github.com/Wamp1re-Ai/Chatterbox-Unlimited-Colab)\n",
        "- [ResembleAI ChatterBox](https://github.com/resemble-ai/chatterbox)\n",
        "- [Hugging Face Model](https://huggingface.co/ResembleAI/chatterbox)\n",
        "\n",
        "**Enjoy creating amazing speech with ChatterBox Unlimited! 🎉**"
      ],
      "metadata": {
        "id": "usage_instructions"
      }
    }
  ]
}
