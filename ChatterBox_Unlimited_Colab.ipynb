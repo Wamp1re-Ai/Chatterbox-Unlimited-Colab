{
  "nbformat": 4,
  "nbformat_minor": 0,
  "metadata": {
    "colab": {
      "provenance": [],
      "gpuType": "T4",
      "machine_shape": "hm"
    },
    "kernelspec": {
      "name": "python3",
      "display_name": "Python 3"
    },
    "language_info": {
      "name": "python"
    },
    "accelerator": "GPU"
  },
  "cells": [
    {
      "cell_type": "markdown",
      "source": [
        "# 🎤 ChatterBox Unlimited - Colab Edition\n",
        "\n",
        "Welcome to **ChatterBox Unlimited**! This notebook provides a powerful Gradio interface for ResembleAI's state-of-the-art ChatterBox TTS model.\n",
        "\n",
        "## ✨ Features\n",
        "- 🎯 **Zero-shot TTS**: Generate speech from any text\n",
        "- 🎭 **Voice Cloning**: Clone voices from audio samples\n",
        "- 🎨 **Emotion Control**: Adjust expressiveness\n",
        "- 🚀 **GPU Acceleration**: Fast generation with Colab's GPUs\n",
        "- 🌐 **Web Interface**: Beautiful Gradio UI\n",
        "\n",
        "## 🚀 Instructions\n",
        "1. **Enable GPU**: Go to Runtime → Change runtime type → GPU\n",
        "2. **Run all cells** below in order\n",
        "3. **Access the interface** through the Gradio link\n",
        "4. **Start generating speech**!\n",
        "\n",
        "---"
      ],
      "metadata": {
        "id": "header"
      }
    },
    {
      "cell_type": "markdown",
      "source": [
        "## 📦 Step 1: Install Dependencies\n",
        "\n",
        "This will install all required packages including PyTorch with CUDA support and ChatterBox TTS."
      ],
      "metadata": {
        "id": "install_header"
      }
    },
    {
      "cell_type": "code",
      "execution_count": null,
      "metadata": {
        "id": "install_deps"
      },
      "outputs": [],
      "source": [
        "# Install PyTorch with CUDA support\n",
        "!pip install torch torchaudio --index-url https://download.pytorch.org/whl/cu118\n",
        "\n",
        "# Install ChatterBox TTS and dependencies\n",
        "!pip install chatterbox-tts gradio soundfile librosa numpy\n",
        "\n",
        "# Verify installation\n",
        "import torch\n",
        "print(f\"🔥 PyTorch version: {torch.__version__}\")\n",
        "print(f\"🎮 CUDA available: {torch.cuda.is_available()}\")\n",
        "if torch.cuda.is_available():\n",
        "    print(f\"   GPU: {torch.cuda.get_device_name(0)}\")\n",
        "    print(f\"   Memory: {torch.cuda.get_device_properties(0).total_memory / 1e9:.1f} GB\")\n",
        "\n",
        "try:\n",
        "    from chatterbox.tts import ChatterboxTTS\n",
        "    print(\"✅ ChatterBox TTS installed successfully!\")\n",
        "except ImportError as e:\n",
        "    print(f\"❌ ChatterBox TTS installation failed: {e}\")"
      ]
    },
    {
      "cell_type": "markdown",
      "source": [
        "## 📥 Step 2: Download Repository\n",
        "\n",
        "Clone the ChatterBox Unlimited repository with the Gradio interface."
      ],
      "metadata": {
        "id": "download_header"
      }
    },
    {
      "cell_type": "code",
      "source": [
        "# Clone the repository\n",
        "!git clone https://github.com/Wamp1re-Ai/Chatterbox-Unlimited-Colab.git\n",
        "%cd Chatterbox-Unlimited-Colab\n",
        "\n",
        "# List files\n",
        "!ls -la"
      ],
      "metadata": {
        "id": "download_repo"
      },
      "execution_count": null,
      "outputs": []
    },
    {
      "cell_type": "markdown",
      "source": [
        "## 🚀 Step 3: Launch ChatterBox TTS Interface\n",
        "\n",
        "This will start the Gradio web interface. The model will automatically download (~5GB) on first run."
      ],
      "metadata": {
        "id": "launch_header"
      }
    },
    {
      "cell_type": "code",
      "source": [
        "# Launch the ChatterBox TTS interface\n",
        "!python main.py --share --port 7860\n",
        "\n",
        "# Note: The interface will be available at the Gradio public link\n",
        "# Look for the line that says \"Running on public URL: https://xxxxx.gradio.live\""
      ],
      "metadata": {
        "id": "launch_interface"
      },
      "execution_count": null,
      "outputs": []
    },
    {
      "cell_type": "markdown",
      "source": [
        "## 🎯 How to Use\n",
        "\n",
        "Once the interface is running:\n",
        "\n",
        "### Basic Text-to-Speech\n",
        "1. **Load Model**: Click \"Load ChatterBox TTS Model\" (first time may take a few minutes)\n",
        "2. **Enter Text**: Type your text in the input box\n",
        "3. **Adjust Settings**:\n",
        "   - **Exaggeration**: 0.0-1.0 (emotion intensity)\n",
        "   - **CFG Weight**: 0.0-1.0 (speech pacing)\n",
        "4. **Generate**: Click \"🎤 Generate Speech\"\n",
        "\n",
        "### Voice Cloning\n",
        "1. **Upload Reference Audio**: 3-10 seconds of clear speech\n",
        "2. **Enter Text**: What you want the cloned voice to say\n",
        "3. **Generate**: The output will mimic the reference voice\n",
        "\n",
        "### Tips for Best Results\n",
        "- **General Use**: Default settings (0.5, 0.5) work well\n",
        "- **Expressive Speech**: Lower CFG (~0.3) + higher exaggeration (~0.7+)\n",
        "- **Voice Cloning**: Use clear, high-quality reference audio\n",
        "- **GPU Acceleration**: Colab's GPU will make generation much faster!\n",
        "\n",
        "---\n",
        "\n",
        "## 📝 Notes\n",
        "- Generated audio includes watermarking for responsible AI use\n",
        "- First model load downloads ~5GB of weights\n",
        "- Colab session will timeout after inactivity\n",
        "- For extended use, consider Colab Pro for longer sessions\n",
        "\n",
        "## 🔗 Links\n",
        "- [GitHub Repository](https://github.com/Wamp1re-Ai/Chatterbox-Unlimited-Colab)\n",
        "- [ResembleAI ChatterBox](https://github.com/resemble-ai/chatterbox)\n",
        "- [Hugging Face Model](https://huggingface.co/ResembleAI/chatterbox)\n",
        "\n",
        "**Enjoy creating amazing speech with ChatterBox Unlimited! 🎉**"
      ],
      "metadata": {
        "id": "usage_instructions"
      }
    }
  ]
}
